{
 "cells": [
  {
   "cell_type": "code",
   "execution_count": 1,
   "id": "6bf945b0",
   "metadata": {},
   "outputs": [],
   "source": [
    "# importing library\n",
    "import requests\n",
    "import time\n",
    "from bs4 import BeautifulSoup\n",
    "import json\n",
    "import pandas as pd\n",
    "from pymongo import MongoClient"
   ]
  },
  {
   "cell_type": "code",
   "execution_count": 2,
   "id": "01e80879",
   "metadata": {},
   "outputs": [],
   "source": [
    "# Remove Character from the text\n",
    "def Remove_Character(Text, characters):\n",
    "    val = Text.get_text(separator=' ').rstrip().split()\n",
    "    val = ' '.join(val)\n",
    "    for c in characters:\n",
    "        val = ''.join(val.split(c))\n",
    "    return val\n",
    "\n",
    "# Get the position value\n",
    "def Get_Position_Value(Text_Value, value_address):\n",
    "    val = Text_Value.get_text(separator=' ').rstrip().split()\n",
    "    return(val[value_address])\n",
    "\n",
    "# Join the array with given tag\n",
    "def Join_Value_With(value, join_value):\n",
    "    val = value.get_text(separator=' ').rstrip().split()\n",
    "    val = join_value.join(val)\n",
    "    return(val)\n",
    "\n",
    "# To Reamove Unusal Spaces\n",
    "def Remove_Unusal_Spaces(value):\n",
    "    val = value.get_text(separator=' ').rstrip().split()\n",
    "    val = ' '.join(val)\n",
    "    return(val)\n",
    "\n",
    "# Make the attributes naming \n",
    "def Name_Attribute(attribute):\n",
    "    \"\"\"remove the unusual spaces and convert the sentence into array\"\"\"\n",
    "    attr = attribute.get_text(separator=' ').rstrip().split()\n",
    "    attr = [x.casefold() for x in attr] # capitalize the first letter of the word\n",
    "    attr = '_'.join(attr) # Join each word with \"_\"\n",
    "    return(attr)\n",
    "\n",
    "def Get_href(anchor):\n",
    "    \"\"\"scrap the anchor tag href\"\"\"\n",
    "    href =  anchor.find('a', href=True)['href']\n",
    "    return href"
   ]
  },
  {
   "cell_type": "code",
   "execution_count": 3,
   "id": "c42802d5",
   "metadata": {},
   "outputs": [],
   "source": [
    "uni_search_url = 'https://www.usnews.com/best-colleges/search?schoolName='\n",
    "uni_name = 'harvard university'\n",
    "search_url = uni_search_url + uni_name"
   ]
  },
  {
   "cell_type": "code",
   "execution_count": 4,
   "id": "e658b75e",
   "metadata": {},
   "outputs": [],
   "source": [
    "def scrapper(url):\n",
    "    page = requests.get(url, timeout=1000, headers={'User-Agent': 'Mozilla/5.0'})\n",
    "    soup = BeautifulSoup(page.content,'html.parser')\n",
    "    return soup, page.status_code"
   ]
  },
  {
   "cell_type": "code",
   "execution_count": 7,
   "id": "2d5d2e30",
   "metadata": {},
   "outputs": [
    {
     "name": "stdout",
     "output_type": "stream",
     "text": [
      "200\n"
     ]
    }
   ],
   "source": [
    "search_result_page, search_status = scrapper(search_url)\n",
    "# print(search_result_page, search_status)"
   ]
  },
  {
   "cell_type": "code",
   "execution_count": 8,
   "id": "1dc32cba",
   "metadata": {},
   "outputs": [
    {
     "name": "stdout",
     "output_type": "stream",
     "text": [
      "/best-colleges/harvard-university-2155\n"
     ]
    }
   ],
   "source": [
    "uni_link = search_result_page.find('a', class_=\"card-name\", href=True)['href']\n",
    "print(uni_link)"
   ]
  },
  {
   "cell_type": "code",
   "execution_count": 7,
   "id": "a6c4b9aa",
   "metadata": {},
   "outputs": [],
   "source": [
    "domain_name = 'https://www.usnews.com/'"
   ]
  },
  {
   "cell_type": "code",
   "execution_count": 8,
   "id": "100cea84",
   "metadata": {},
   "outputs": [],
   "source": [
    "uni_overview_url = domain_name + uni_link\n",
    "uni_rankings_url = uni_overview_url + '/overall-rankings'\n",
    "uni_admission_url = uni_overview_url + '/applying'\n",
    "uni_academics_url  = uni_overview_url + '/academics'\n",
    "uni_student_life_url  = uni_overview_url + '/student-life'\n",
    "uni_user_review_url  = uni_overview_url + '/reviews'\n",
    "uni_tution_and_fincance_url  = uni_overview_url + '/paying'\n",
    "uni_campus_url  = uni_overview_url + '/campus-info'"
   ]
  },
  {
   "cell_type": "code",
   "execution_count": 9,
   "id": "5552bc14",
   "metadata": {},
   "outputs": [
    {
     "name": "stdout",
     "output_type": "stream",
     "text": [
      "https://www.usnews.com//best-colleges/harvard-university-2155\n",
      "https://www.usnews.com//best-colleges/harvard-university-2155/overall-rankings\n",
      "https://www.usnews.com//best-colleges/harvard-university-2155/applying\n",
      "https://www.usnews.com//best-colleges/harvard-university-2155/academics\n",
      "https://www.usnews.com//best-colleges/harvard-university-2155/student-life\n",
      "https://www.usnews.com//best-colleges/harvard-university-2155/reviews\n",
      "https://www.usnews.com//best-colleges/harvard-university-2155/paying\n",
      "https://www.usnews.com//best-colleges/harvard-university-2155/campus-info\n"
     ]
    }
   ],
   "source": [
    "print(uni_overview_url)\n",
    "print(uni_rankings_url)\n",
    "print(uni_admission_url)\n",
    "print(uni_academics_url)\n",
    "print(uni_student_life_url)\n",
    "print(uni_user_review_url)\n",
    "print(uni_tution_and_fincance_url)\n",
    "print(uni_campus_url)"
   ]
  },
  {
   "cell_type": "code",
   "execution_count": 10,
   "id": "81be3378",
   "metadata": {},
   "outputs": [],
   "source": [
    "# Data management\n",
    "whole_data = {}"
   ]
  },
  {
   "cell_type": "markdown",
   "id": "0c855bb6",
   "metadata": {},
   "source": [
    "# Overview"
   ]
  },
  {
   "cell_type": "code",
   "execution_count": 11,
   "id": "5235c3ec",
   "metadata": {},
   "outputs": [
    {
     "name": "stdout",
     "output_type": "stream",
     "text": [
      "200\n"
     ]
    }
   ],
   "source": [
    "# overview page\n",
    "overview_section = {}\n",
    "overview_page = scrapper(uni_overview_url)\n",
    "# print(overview_page)"
   ]
  },
  {
   "cell_type": "code",
   "execution_count": 12,
   "id": "ca0d5ce7",
   "metadata": {},
   "outputs": [
    {
     "name": "stdout",
     "output_type": "stream",
     "text": [
      "{'school_type': 'Private, Coed', 'year_founded': '1636', 'religious_affiliation': 'None', 'academic_calendar': 'Semester', 'setting': 'Urban', 'phone': '(617) 495-1000', 'school_website': 'http://www.harvard.edu/', 'median_starting_salary_of_alumni': '$69,000'}\n"
     ]
    }
   ],
   "source": [
    "overview_intro = overview_page.find('div', class_='Raw-slyvem-0 util__RawContent-sc-1kd04gx-2 RClcr eNQGvA').p.text\n",
    "general_info = overview_page.find_all('div', class_='Box-w0dun1-0 DataRow__Row-sc-1udybh3-0 knONpq keLhhz')\n",
    "general_information = {}\n",
    "for gi in general_info:\n",
    "    paragraphs = gi.find_all('p')\n",
    "    if len(paragraphs) == 2:\n",
    "        general_information[Name_Attribute(paragraphs[0])] = paragraphs[1].text\n",
    "    elif len(paragraphs) == 1:\n",
    "        general_information[Name_Attribute(paragraphs[0])] = Get_href(gi)\n",
    "print(general_information)"
   ]
  },
  {
   "cell_type": "code",
   "execution_count": 13,
   "id": "ec936bc0",
   "metadata": {},
   "outputs": [],
   "source": [
    "overview_section['overview'] = overview_intro\n",
    "overview_section['general_information'] = general_information"
   ]
  },
  {
   "cell_type": "markdown",
   "id": "162283e5",
   "metadata": {},
   "source": [
    "# Rankings"
   ]
  },
  {
   "cell_type": "code",
   "execution_count": 14,
   "id": "36c620e4",
   "metadata": {},
   "outputs": [
    {
     "name": "stdout",
     "output_type": "stream",
     "text": [
      "200\n"
     ]
    }
   ],
   "source": [
    "rankings_section = []\n",
    "rankings_page = scrapper(uni_rankings_url)\n",
    "# print(rankings_page)"
   ]
  },
  {
   "cell_type": "code",
   "execution_count": 15,
   "id": "5f8412f1",
   "metadata": {},
   "outputs": [],
   "source": [
    "rankings = rankings_page.find_all('a', class_='Anchor-byh49a-0 PlBer')\n",
    "for r in rankings:\n",
    "    rank = {}\n",
    "    href = r['href']\n",
    "    ranks = r.find_all('strong')\n",
    "    if len(ranks) == 2:\n",
    "        rank['url'] = r['href']\n",
    "        rank['rank'] = ranks[0].text\n",
    "        rank['title'] = ranks[1].text\n",
    "        rankings_section.append(rank)"
   ]
  },
  {
   "cell_type": "code",
   "execution_count": 16,
   "id": "5d4dc792",
   "metadata": {},
   "outputs": [
    {
     "name": "stdout",
     "output_type": "stream",
     "text": [
      "[{'url': 'https://www.usnews.com/best-colleges/rankings/national-universities', 'rank': '#2', 'title': 'National Universities'}, {'url': 'https://www.usnews.com/best-colleges/rankings/national-universities/undergraduate-teaching', 'rank': '#13', 'title': 'Best Undergraduate Teaching'}, {'url': 'https://www.usnews.com/best-colleges/rankings/national-universities/best-value', 'rank': '#3', 'title': 'Best Value Schools'}, {'url': 'https://www.usnews.com/best-colleges/rankings/national-universities/innovative', 'rank': '#23', 'title': 'Most Innovative Schools'}, {'url': 'https://www.usnews.com/best-colleges/rankings/national-universities/social-mobility', 'rank': '#211', 'title': 'Top Performers on Social Mobility'}, {'url': 'https://www.usnews.com/best-colleges/rankings/engineering-doctorate', 'rank': '#27', 'title': 'Best Undergraduate Engineering Programs'}, {'url': 'https://www.usnews.com/best-colleges/rankings/computer-science/biocomputing-bioinformatics-biotechnology', 'rank': '#10', 'title': 'Biocomputing/Bioinformatics/Biotechnology'}, {'url': 'https://www.usnews.com/best-colleges/rankings/computer-science/theory', 'rank': '#7', 'title': 'Theory'}, {'url': 'https://www.usnews.com/best-colleges/rankings/writing-programs', 'rank': '#8', 'title': 'Writing in the Disciplines'}, {'url': 'https://www.usnews.com/best-colleges/rankings/study-abroad-programs', 'rank': '#23', 'title': 'Study Abroad'}, {'url': 'https://www.usnews.com/best-colleges/rankings/undergrad-research-programs', 'rank': '#4', 'title': 'Undergraduate Research/Creative Projects'}, {'url': 'https://www.usnews.com/best-colleges/rankings/first-year-experience-programs', 'rank': '#41', 'title': 'First-Year Experiences'}, {'url': 'https://www.usnews.com/best-colleges/rankings/senior-capstone-programs', 'rank': '#14', 'title': 'Senior Capstone'}]\n"
     ]
    }
   ],
   "source": [
    "print(rankings_section)"
   ]
  },
  {
   "cell_type": "markdown",
   "id": "104ec49b",
   "metadata": {},
   "source": [
    "# Admission"
   ]
  },
  {
   "cell_type": "code",
   "execution_count": 17,
   "id": "83523c01",
   "metadata": {},
   "outputs": [
    {
     "name": "stdout",
     "output_type": "stream",
     "text": [
      "200\n"
     ]
    }
   ],
   "source": [
    "admission_section = {}\n",
    "admission_page = scrapper(uni_admission_url)\n",
    "# print(admission_page)"
   ]
  },
  {
   "cell_type": "code",
   "execution_count": 18,
   "id": "c7a3dad5",
   "metadata": {},
   "outputs": [
    {
     "name": "stdout",
     "output_type": "stream",
     "text": [
      "Harvard University admissions is most selective with an acceptance rate of 5% and an early acceptance rate of 13.9%. Half the applicants admitted to Harvard University have an SAT score between 1460 and 1580 or an ACT score of 33 and 35. However, one quarter of admitted applicants achieved scores above these ranges and one quarter scored below these ranges. The application deadline is Jan. 1 and the application fee at Harvard University is $75. Admissions officials at Harvard University consider a student's GPA an academic factor. An applicant's high school class rank is not considered but letters of recommendation are considered by admissions officials at Harvard University. To see additional academic factors along with other school data, learn more about College Compass .Harvard University admissions is most selective with an acceptance rate of 5% and an early acceptance rate of 13.9%. Half the applicants admitted to Harvard University have an SAT score between 1460 and 1580 or an ACT score of 33 and 35. However, one quarter of admitted applicants achieved scores above these ranges and one quarter scored below these ranges. The application deadline is Jan. 1 and the application fee at Harvard University is $75.Admissions officials at Harvard University consider a student's GPA an academic factor. An applicant's high school class rank is not considered but letters of recommendation are considered by admissions officials at Harvard University. To see additional academic factors along with other school data, learn more about College Compass .\n"
     ]
    }
   ],
   "source": [
    "summary_box = admission_page.find('div', class_='summary-box')\n",
    "summary = summary_box.find_all('p')\n",
    "paragraph = ''\n",
    "for p in summary:\n",
    "    paragraph = paragraph + Remove_Unusal_Spaces(p)\n",
    "print(paragraph)"
   ]
  },
  {
   "cell_type": "code",
   "execution_count": 19,
   "id": "54120089",
   "metadata": {},
   "outputs": [],
   "source": [
    "# admissions_stats = {}\n",
    "# admission_stat = admission_page.find('div', class_='quick-stat-box')\n",
    "# stat = admission_stat.find_all('div')"
   ]
  },
  {
   "cell_type": "code",
   "execution_count": 20,
   "id": "ed0f5aa0",
   "metadata": {},
   "outputs": [],
   "source": [
    "# for s in stat:\n",
    "#     admissions_stats[Name_Attribute(s.dl.dt)] = s.dl.dd.text\n",
    "# print(admissions_stats)"
   ]
  },
  {
   "cell_type": "code",
   "execution_count": 21,
   "id": "19f80b5e",
   "metadata": {},
   "outputs": [
    {
     "name": "stdout",
     "output_type": "stream",
     "text": [
      "{'admission_interview': 'Recommended', 'required_standardized_tests': 'Either SAT or ACT', 'sat/act_scores_must_be_received_by': 'March 6', 'application_deadline': 'Jan. 1', 'early_decision_deadline': 'N/A', 'application_fee': '$75', 'common_application_accepted': 'Yes', 'deadline_for_housing_deposit': 'N/A', 'selectivity': 'Most selective', 'acceptance_rate': '5%', 'early_decision_acceptance_rate': 'N/A', 'sats_on_1600_scale': 'N/A', 'accepting_applications': 'Fall', 'minimum_credits_to_apply': '16', 'minimum_required_college_gpa': 'N/A', 'has_guaranteed_admission_agreement_with_at_least_one_other_institution': 'N/A', 'guaranteed_admission_agreement_url': 'N/A', 'separate_application_form_required': 'No', 'conditional_admission_offered': 'No', 'early_decision_or_early_action_options_available': 'Early action only', 'toefl_(paper)': 'Considered', 'toefl_(internet-based)': 'Considered', 'michigan_test': 'N/A', 'ielts': 'N/A', 'sat': 'Required', 'act': 'Required', 'advance_deposit_required': 'No', 'toefl_accepted_instead_of_sat_or_act': 'No'}\n"
     ]
    }
   ],
   "source": [
    "admission_info = admission_page.find_all('div', class_='Box-w0dun1-0 DataRow__Row-sc-1udybh3-0 knONpq fPkWrz Display__DataRowBox-h3gn08-1 kwTiaI')\n",
    "admission_information = {}\n",
    "for info in admission_info:\n",
    "    para = info.find_all('p')\n",
    "    if para[0].text != 'UNLOCK WITH COMPASS':\n",
    "        admission_information[Name_Attribute(para[0])] = para[1].text\n",
    "print(admission_information)"
   ]
  },
  {
   "cell_type": "code",
   "execution_count": 22,
   "id": "9c995bde",
   "metadata": {},
   "outputs": [
    {
     "name": "stdout",
     "output_type": "stream",
     "text": [
      "{'name': 'Judy Partington', 'office': 'International Admissions Administrator', 'phone_number': '(617) 495-1551', 'email': 'intladm@fas.harvard.edu'}\n"
     ]
    }
   ],
   "source": [
    "admission_contact_section = admission_page.find('div', class_='Box-w0dun1-0 DataRow__Row-sc-1udybh3-0 knONpq fPkWrz Display__DataRowBox-h3gn08-1 kwTiaI datarow-list')\n",
    "contact_section = admission_contact_section.find_all('div')\n",
    "admission_contact_info = {}\n",
    "admission_contact_info['name'] = Remove_Unusal_Spaces(contact_section[0])\n",
    "admission_contact_info['office'] = Remove_Unusal_Spaces(contact_section[1])\n",
    "admission_contact_info['phone_number'] = Remove_Unusal_Spaces(contact_section[2])\n",
    "admission_contact_info['email'] = Remove_Unusal_Spaces(contact_section[3])\n",
    "print(admission_contact_info)"
   ]
  },
  {
   "cell_type": "code",
   "execution_count": null,
   "id": "13fcb26a",
   "metadata": {},
   "outputs": [],
   "source": []
  },
  {
   "cell_type": "code",
   "execution_count": 23,
   "id": "4d6502a2",
   "metadata": {},
   "outputs": [],
   "source": [
    "admission_section['summary'] = paragraph\n",
    "admission_section['admission_information'] = admission_information\n",
    "admission_section['admission_contact_information'] = admission_contact_info\n",
    "# admission_section['admissions_stats'] = admissions_stats"
   ]
  },
  {
   "cell_type": "code",
   "execution_count": 24,
   "id": "36350949",
   "metadata": {},
   "outputs": [
    {
     "name": "stdout",
     "output_type": "stream",
     "text": [
      "{'summary': \"Harvard University admissions is most selective with an acceptance rate of 5% and an early acceptance rate of 13.9%. Half the applicants admitted to Harvard University have an SAT score between 1460 and 1580 or an ACT score of 33 and 35. However, one quarter of admitted applicants achieved scores above these ranges and one quarter scored below these ranges. The application deadline is Jan. 1 and the application fee at Harvard University is $75. Admissions officials at Harvard University consider a student's GPA an academic factor. An applicant's high school class rank is not considered but letters of recommendation are considered by admissions officials at Harvard University. To see additional academic factors along with other school data, learn more about College Compass .Harvard University admissions is most selective with an acceptance rate of 5% and an early acceptance rate of 13.9%. Half the applicants admitted to Harvard University have an SAT score between 1460 and 1580 or an ACT score of 33 and 35. However, one quarter of admitted applicants achieved scores above these ranges and one quarter scored below these ranges. The application deadline is Jan. 1 and the application fee at Harvard University is $75.Admissions officials at Harvard University consider a student's GPA an academic factor. An applicant's high school class rank is not considered but letters of recommendation are considered by admissions officials at Harvard University. To see additional academic factors along with other school data, learn more about College Compass .\", 'admission_information': {'admission_interview': 'Recommended', 'required_standardized_tests': 'Either SAT or ACT', 'sat/act_scores_must_be_received_by': 'March 6', 'application_deadline': 'Jan. 1', 'early_decision_deadline': 'N/A', 'application_fee': '$75', 'common_application_accepted': 'Yes', 'deadline_for_housing_deposit': 'N/A', 'selectivity': 'Most selective', 'acceptance_rate': '5%', 'early_decision_acceptance_rate': 'N/A', 'sats_on_1600_scale': 'N/A', 'accepting_applications': 'Fall', 'minimum_credits_to_apply': '16', 'minimum_required_college_gpa': 'N/A', 'has_guaranteed_admission_agreement_with_at_least_one_other_institution': 'N/A', 'guaranteed_admission_agreement_url': 'N/A', 'separate_application_form_required': 'No', 'conditional_admission_offered': 'No', 'early_decision_or_early_action_options_available': 'Early action only', 'toefl_(paper)': 'Considered', 'toefl_(internet-based)': 'Considered', 'michigan_test': 'N/A', 'ielts': 'N/A', 'sat': 'Required', 'act': 'Required', 'advance_deposit_required': 'No', 'toefl_accepted_instead_of_sat_or_act': 'No'}, 'admission_contact_information': {'name': 'Judy Partington', 'office': 'International Admissions Administrator', 'phone_number': '(617) 495-1551', 'email': 'intladm@fas.harvard.edu'}}\n"
     ]
    }
   ],
   "source": [
    "print(admission_section)"
   ]
  },
  {
   "cell_type": "markdown",
   "id": "0f6476fc",
   "metadata": {},
   "source": [
    "# Academics"
   ]
  },
  {
   "cell_type": "code",
   "execution_count": 25,
   "id": "365ad46a",
   "metadata": {},
   "outputs": [
    {
     "name": "stdout",
     "output_type": "stream",
     "text": [
      "200\n"
     ]
    }
   ],
   "source": [
    "academics_section = {}\n",
    "academics_page = scrapper(uni_academics_url)\n",
    "# print(academics_page)"
   ]
  },
  {
   "cell_type": "code",
   "execution_count": 26,
   "id": "6a2b2caa",
   "metadata": {},
   "outputs": [
    {
     "name": "stdout",
     "output_type": "stream",
     "text": [
      "The student-faculty ratio at Harvard University is 5:1, and the school has 76.3% of its classes with fewer than 20 students. The most popular majors at Harvard University include: Social Sciences, General; Biology/Biological Sciences, General; Mathematics, General; Computer and Information Sciences, General; History, General; Physical Sciences, General; Engineering, General; Psychology, General; English Language and Literature, General; and Visual and Performing Arts, General. The average freshman retention rate, an indicator of student satisfaction, is 92%.\n"
     ]
    }
   ],
   "source": [
    "academic_summary_box = academics_page.find('div', class_='summary-box')\n",
    "academic_summary = academic_summary_box.find_all('p')\n",
    "academic_paragraph = ''\n",
    "for p in academic_summary:\n",
    "    academic_paragraph = academic_paragraph + Remove_Unusal_Spaces(p)\n",
    "print(academic_paragraph)"
   ]
  },
  {
   "cell_type": "code",
   "execution_count": 27,
   "id": "50f3a5de",
   "metadata": {},
   "outputs": [
    {
     "name": "stdout",
     "output_type": "stream",
     "text": [
      "[{'name': 'Social Sciences, General', 'percentage': ' 27%'}, {'name': 'Biology/Biological Sciences, General', 'percentage': ' 12%'}, {'name': 'Mathematics, General', 'percentage': ' 12%'}, {'name': 'Computer and Information Sciences, General', 'percentage': ' 11%'}, {'name': 'History, General', 'percentage': ' 9%'}, {'name': 'Physical Sciences, General', 'percentage': ' 7%'}, {'name': 'Engineering, General', 'percentage': ' 5%'}, {'name': 'Psychology, General', 'percentage': ' 4%'}, {'name': 'English Language and Literature, General', 'percentage': ' 3%'}, {'name': 'Visual and Performing Arts, General', 'percentage': ' 3%'}]\n"
     ]
    }
   ],
   "source": [
    "most_popular_majors = []\n",
    "popular_majors = academics_page.find('div', class_='Box-w0dun1-0 DataRow__Row-sc-1udybh3-0 knONpq fPkWrz Display__DataRowBox-h3gn08-1 kwTiaI datarow-table truncated')\n",
    "pop_majors = popular_majors.find_all('li')\n",
    "for m in pop_majors:\n",
    "    para = m.find_all('p')\n",
    "    if len(para) == 2:\n",
    "        most_popular_majors.append({\n",
    "            'name': para[0].text,\n",
    "            'percentage': para[1].text\n",
    "        })\n",
    "print(most_popular_majors)"
   ]
  },
  {
   "cell_type": "code",
   "execution_count": 28,
   "id": "c6c19f74",
   "metadata": {},
   "outputs": [],
   "source": [
    "academics_section['academic_summary'] = academic_paragraph\n",
    "academics_section['popular_majors'] = most_popular_majors"
   ]
  },
  {
   "cell_type": "markdown",
   "id": "82449ed2",
   "metadata": {},
   "source": [
    "# Student Life"
   ]
  },
  {
   "cell_type": "code",
   "execution_count": 29,
   "id": "899c7ae0",
   "metadata": {},
   "outputs": [
    {
     "name": "stdout",
     "output_type": "stream",
     "text": [
      "200\n"
     ]
    }
   ],
   "source": [
    "student_life_section = {}\n",
    "student_life_page = scrapper(uni_student_life_url)\n",
    "# print(student_life_page)"
   ]
  },
  {
   "cell_type": "code",
   "execution_count": 30,
   "id": "ae3c9119",
   "metadata": {},
   "outputs": [
    {
     "name": "stdout",
     "output_type": "stream",
     "text": [
      "Harvard University has a total undergraduate enrollment of 5,222 (fall 2020), with a gender distribution of 49% male students and 51% female students. In sports, Harvard University is part of the NCAA I.\n"
     ]
    }
   ],
   "source": [
    "student_life_summary_box = student_life_page.find('div', class_='summary-box')\n",
    "student_life_summary = student_life_summary_box.find_all('p')\n",
    "student_life_paragraph = ''\n",
    "for p in student_life_summary:\n",
    "    student_life_paragraph = student_life_paragraph + Remove_Unusal_Spaces(p)\n",
    "print(student_life_paragraph)"
   ]
  },
  {
   "cell_type": "code",
   "execution_count": 31,
   "id": "3f8036b3",
   "metadata": {},
   "outputs": [
    {
     "name": "stdout",
     "output_type": "stream",
     "text": [
      "[]\n",
      "[]\n"
     ]
    }
   ],
   "source": [
    "uni_student_body = []\n",
    "student_body = student_life_page.find_all('div', class_='Box-w0dun1-0 DataRow__Row-sc-1udybh3-0')\n",
    "print(student_body)\n",
    "for stud in student_body:\n",
    "    para = stud.find_all('p')\n",
    "    if (len(para) == 2) & (para[0].text != 'UNLOCK WITH COMPASS'):\n",
    "        uni_student_body.append({\n",
    "            'title': para[0].text,\n",
    "            'value': para[1].text,\n",
    "        })\n",
    "print(uni_student_body)"
   ]
  },
  {
   "cell_type": "code",
   "execution_count": 32,
   "id": "9bb9cbc9",
   "metadata": {},
   "outputs": [],
   "source": [
    "student_life_section['student_life_summary'] = student_life_paragraph\n",
    "student_life_section['student_life_information'] = uni_student_body"
   ]
  },
  {
   "cell_type": "markdown",
   "id": "33785f84",
   "metadata": {},
   "source": [
    "# Tuition and Financial"
   ]
  },
  {
   "cell_type": "code",
   "execution_count": 33,
   "id": "47fd7998",
   "metadata": {},
   "outputs": [
    {
     "name": "stdout",
     "output_type": "stream",
     "text": [
      "200\n"
     ]
    }
   ],
   "source": [
    "tuition_and_financial_section = {}\n",
    "tuition_and_financial_page = scrapper(uni_tution_and_fincance_url)\n",
    "# print(tuition_and_financial_page)"
   ]
  },
  {
   "cell_type": "code",
   "execution_count": 34,
   "id": "b2469e09",
   "metadata": {},
   "outputs": [
    {
     "name": "stdout",
     "output_type": "stream",
     "text": [
      "Harvard University's tuition is $55,587. Compared with the national average cost of tuition of $41,281, Harvard University is more expensive. These figures include both tuition and fees, also referred to as the sticker price . Fees differ by institution and may fund library services, student gym facilities, student centers, technology resources and campus health centers. As you’re comparing costs of different institutions, also consider the total cost and the net price. The total cost is the sticker price, plus the cost of room and board, books and supplies, and transportation and personal expenses. At Harvard University, the total cost is $75,891. The net price is the average cost of the university after aid and scholarship funds are discounted from the total cost, which comes in at $20,023 for the average student receiving need-based aid.Harvard University's tuition is $55,587. Compared with the national average cost of tuition of $41,281, Harvard University is more expensive.These figures include both tuition and fees, also referred to as the sticker price . Fees differ by institution and may fund library services, student gym facilities, student centers, technology resources and campus health centers.As you’re comparing costs of different institutions, also consider the total cost and the net price. The total cost is the sticker price, plus the cost of room and board, books and supplies, and transportation and personal expenses. At Harvard University, the total cost is $75,891. The net price is the average cost of the university after aid and scholarship funds are discounted from the total cost, which comes in at $20,023 for the average student receiving need-based aid.\n"
     ]
    }
   ],
   "source": [
    "tuition_and_financial_summary_box = tuition_and_financial_page.find('div', class_='summary-box')\n",
    "tuition_and_financial_summary = tuition_and_financial_summary_box.find_all('p')\n",
    "tuition_and_financial_paragraph = ''\n",
    "for p in tuition_and_financial_summary:\n",
    "    tuition_and_financial_paragraph = tuition_and_financial_paragraph + Remove_Unusal_Spaces(p)\n",
    "print(tuition_and_financial_paragraph)"
   ]
  },
  {
   "cell_type": "code",
   "execution_count": 35,
   "id": "c554213e",
   "metadata": {},
   "outputs": [
    {
     "name": "stdout",
     "output_type": "stream",
     "text": [
      "[{'titel': 'Tuition and fees', 'value': '$55,587(2021-22)'}, {'titel': 'Room and board', 'value': '$18,941(2021-22)'}, {'titel': 'Institution is G.I. Bill certified', 'value': 'Yes'}, {'titel': 'Institution participates in Yellow Ribbon Program', 'value': 'Yes'}, {'titel': 'Average total indebtedness of 2020 graduating class', 'value': '$18,197'}, {'titel': 'Graduating students who have borrowed (any loan type, 2020)', 'value': '20%'}]\n"
     ]
    }
   ],
   "source": [
    "financial_info = []\n",
    "finance = tuition_and_financial_page.find_all('div', class_='Box-w0dun1-0 DataRow__Row-sc-1udybh3-0 knONpq fPkWrz Display__DataRowBox-h3gn08-1 kwTiaI')\n",
    "for f in finance:\n",
    "    para = f.find_all('p')\n",
    "    if (len(para) == 2) & (para[0].text != 'UNLOCK WITH COMPASS'):\n",
    "        financial_info.append({\n",
    "            'titel': para[0].text,\n",
    "            'value': para[1].text,\n",
    "        })\n",
    "print(financial_info)"
   ]
  },
  {
   "cell_type": "code",
   "execution_count": 36,
   "id": "9270d8d0",
   "metadata": {},
   "outputs": [],
   "source": [
    "tuition_and_financial_section['summary'] = tuition_and_financial_paragraph\n",
    "tuition_and_financial_section['financial_information'] = financial_info"
   ]
  },
  {
   "cell_type": "markdown",
   "id": "7d69f7b5",
   "metadata": {},
   "source": [
    "# Final Data"
   ]
  },
  {
   "cell_type": "code",
   "execution_count": 37,
   "id": "94c46945",
   "metadata": {},
   "outputs": [],
   "source": [
    "whole_data['overview_section'] = overview_section\n",
    "whole_data['rankings'] = rankings_section\n",
    "whole_data['admission'] = admission_section\n",
    "whole_data['academics'] = academics_section\n",
    "whole_data['student_life'] = student_life_section\n",
    "whole_data['tuition_and_financial'] = tuition_and_financial_section"
   ]
  },
  {
   "cell_type": "code",
   "execution_count": 38,
   "id": "fc0bfc9b",
   "metadata": {},
   "outputs": [
    {
     "name": "stdout",
     "output_type": "stream",
     "text": [
      "{'overview_section': {'overview': \"Harvard University is a private institution that was founded in 1636. It has a total undergraduate enrollment of 5,222 (fall 2020), its setting is urban, and the campus size is 5,076 acres. It utilizes a semester-based academic calendar. Harvard University's ranking in the 2022 edition of Best Colleges is National Universities, #2. Its tuition and fees are $55,587.\", 'general_information': {'school_type': 'Private, Coed', 'year_founded': '1636', 'religious_affiliation': 'None', 'academic_calendar': 'Semester', 'setting': 'Urban', 'phone': '(617) 495-1000', 'school_website': 'http://www.harvard.edu/', 'median_starting_salary_of_alumni': '$69,000'}}, 'rankings': [{'url': 'https://www.usnews.com/best-colleges/rankings/national-universities', 'rank': '#2', 'title': 'National Universities'}, {'url': 'https://www.usnews.com/best-colleges/rankings/national-universities/undergraduate-teaching', 'rank': '#13', 'title': 'Best Undergraduate Teaching'}, {'url': 'https://www.usnews.com/best-colleges/rankings/national-universities/best-value', 'rank': '#3', 'title': 'Best Value Schools'}, {'url': 'https://www.usnews.com/best-colleges/rankings/national-universities/innovative', 'rank': '#23', 'title': 'Most Innovative Schools'}, {'url': 'https://www.usnews.com/best-colleges/rankings/national-universities/social-mobility', 'rank': '#211', 'title': 'Top Performers on Social Mobility'}, {'url': 'https://www.usnews.com/best-colleges/rankings/engineering-doctorate', 'rank': '#27', 'title': 'Best Undergraduate Engineering Programs'}, {'url': 'https://www.usnews.com/best-colleges/rankings/computer-science/biocomputing-bioinformatics-biotechnology', 'rank': '#10', 'title': 'Biocomputing/Bioinformatics/Biotechnology'}, {'url': 'https://www.usnews.com/best-colleges/rankings/computer-science/theory', 'rank': '#7', 'title': 'Theory'}, {'url': 'https://www.usnews.com/best-colleges/rankings/writing-programs', 'rank': '#8', 'title': 'Writing in the Disciplines'}, {'url': 'https://www.usnews.com/best-colleges/rankings/study-abroad-programs', 'rank': '#23', 'title': 'Study Abroad'}, {'url': 'https://www.usnews.com/best-colleges/rankings/undergrad-research-programs', 'rank': '#4', 'title': 'Undergraduate Research/Creative Projects'}, {'url': 'https://www.usnews.com/best-colleges/rankings/first-year-experience-programs', 'rank': '#41', 'title': 'First-Year Experiences'}, {'url': 'https://www.usnews.com/best-colleges/rankings/senior-capstone-programs', 'rank': '#14', 'title': 'Senior Capstone'}], 'admission': {'summary': \"Harvard University admissions is most selective with an acceptance rate of 5% and an early acceptance rate of 13.9%. Half the applicants admitted to Harvard University have an SAT score between 1460 and 1580 or an ACT score of 33 and 35. However, one quarter of admitted applicants achieved scores above these ranges and one quarter scored below these ranges. The application deadline is Jan. 1 and the application fee at Harvard University is $75. Admissions officials at Harvard University consider a student's GPA an academic factor. An applicant's high school class rank is not considered but letters of recommendation are considered by admissions officials at Harvard University. To see additional academic factors along with other school data, learn more about College Compass .Harvard University admissions is most selective with an acceptance rate of 5% and an early acceptance rate of 13.9%. Half the applicants admitted to Harvard University have an SAT score between 1460 and 1580 or an ACT score of 33 and 35. However, one quarter of admitted applicants achieved scores above these ranges and one quarter scored below these ranges. The application deadline is Jan. 1 and the application fee at Harvard University is $75.Admissions officials at Harvard University consider a student's GPA an academic factor. An applicant's high school class rank is not considered but letters of recommendation are considered by admissions officials at Harvard University. To see additional academic factors along with other school data, learn more about College Compass .\", 'admission_information': {'admission_interview': 'Recommended', 'required_standardized_tests': 'Either SAT or ACT', 'sat/act_scores_must_be_received_by': 'March 6', 'application_deadline': 'Jan. 1', 'early_decision_deadline': 'N/A', 'application_fee': '$75', 'common_application_accepted': 'Yes', 'deadline_for_housing_deposit': 'N/A', 'selectivity': 'Most selective', 'acceptance_rate': '5%', 'early_decision_acceptance_rate': 'N/A', 'sats_on_1600_scale': 'N/A', 'accepting_applications': 'Fall', 'minimum_credits_to_apply': '16', 'minimum_required_college_gpa': 'N/A', 'has_guaranteed_admission_agreement_with_at_least_one_other_institution': 'N/A', 'guaranteed_admission_agreement_url': 'N/A', 'separate_application_form_required': 'No', 'conditional_admission_offered': 'No', 'early_decision_or_early_action_options_available': 'Early action only', 'toefl_(paper)': 'Considered', 'toefl_(internet-based)': 'Considered', 'michigan_test': 'N/A', 'ielts': 'N/A', 'sat': 'Required', 'act': 'Required', 'advance_deposit_required': 'No', 'toefl_accepted_instead_of_sat_or_act': 'No'}, 'admission_contact_information': {'name': 'Judy Partington', 'office': 'International Admissions Administrator', 'phone_number': '(617) 495-1551', 'email': 'intladm@fas.harvard.edu'}}, 'academics': {'academic_summary': 'The student-faculty ratio at Harvard University is 5:1, and the school has 76.3% of its classes with fewer than 20 students. The most popular majors at Harvard University include: Social Sciences, General; Biology/Biological Sciences, General; Mathematics, General; Computer and Information Sciences, General; History, General; Physical Sciences, General; Engineering, General; Psychology, General; English Language and Literature, General; and Visual and Performing Arts, General. The average freshman retention rate, an indicator of student satisfaction, is 92%.', 'popular_majors': [{'name': 'Social Sciences, General', 'percentage': ' 27%'}, {'name': 'Biology/Biological Sciences, General', 'percentage': ' 12%'}, {'name': 'Mathematics, General', 'percentage': ' 12%'}, {'name': 'Computer and Information Sciences, General', 'percentage': ' 11%'}, {'name': 'History, General', 'percentage': ' 9%'}, {'name': 'Physical Sciences, General', 'percentage': ' 7%'}, {'name': 'Engineering, General', 'percentage': ' 5%'}, {'name': 'Psychology, General', 'percentage': ' 4%'}, {'name': 'English Language and Literature, General', 'percentage': ' 3%'}, {'name': 'Visual and Performing Arts, General', 'percentage': ' 3%'}]}, 'student_life': {'student_life_summary': 'Harvard University has a total undergraduate enrollment of 5,222 (fall 2020), with a gender distribution of 49% male students and 51% female students. In sports, Harvard University is part of the NCAA I.', 'student_life_information': []}, 'tuition_and_financial': {'summary': \"Harvard University's tuition is $55,587. Compared with the national average cost of tuition of $41,281, Harvard University is more expensive. These figures include both tuition and fees, also referred to as the sticker price . Fees differ by institution and may fund library services, student gym facilities, student centers, technology resources and campus health centers. As you’re comparing costs of different institutions, also consider the total cost and the net price. The total cost is the sticker price, plus the cost of room and board, books and supplies, and transportation and personal expenses. At Harvard University, the total cost is $75,891. The net price is the average cost of the university after aid and scholarship funds are discounted from the total cost, which comes in at $20,023 for the average student receiving need-based aid.Harvard University's tuition is $55,587. Compared with the national average cost of tuition of $41,281, Harvard University is more expensive.These figures include both tuition and fees, also referred to as the sticker price . Fees differ by institution and may fund library services, student gym facilities, student centers, technology resources and campus health centers.As you’re comparing costs of different institutions, also consider the total cost and the net price. The total cost is the sticker price, plus the cost of room and board, books and supplies, and transportation and personal expenses. At Harvard University, the total cost is $75,891. The net price is the average cost of the university after aid and scholarship funds are discounted from the total cost, which comes in at $20,023 for the average student receiving need-based aid.\", 'financial_information': [{'titel': 'Tuition and fees', 'value': '$55,587(2021-22)'}, {'titel': 'Room and board', 'value': '$18,941(2021-22)'}, {'titel': 'Institution is G.I. Bill certified', 'value': 'Yes'}, {'titel': 'Institution participates in Yellow Ribbon Program', 'value': 'Yes'}, {'titel': 'Average total indebtedness of 2020 graduating class', 'value': '$18,197'}, {'titel': 'Graduating students who have borrowed (any loan type, 2020)', 'value': '20%'}]}}\n"
     ]
    }
   ],
   "source": [
    "print(whole_data)"
   ]
  },
  {
   "cell_type": "code",
   "execution_count": null,
   "id": "b72768e5",
   "metadata": {},
   "outputs": [],
   "source": []
  }
 ],
 "metadata": {
  "kernelspec": {
   "display_name": "Python 3 (ipykernel)",
   "language": "python",
   "name": "python3"
  },
  "language_info": {
   "codemirror_mode": {
    "name": "ipython",
    "version": 3
   },
   "file_extension": ".py",
   "mimetype": "text/x-python",
   "name": "python",
   "nbconvert_exporter": "python",
   "pygments_lexer": "ipython3",
   "version": "3.9.12"
  }
 },
 "nbformat": 4,
 "nbformat_minor": 5
}
